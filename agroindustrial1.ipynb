{
  "nbformat": 4,
  "nbformat_minor": 0,
  "metadata": {
    "colab": {
      "provenance": [],
      "authorship_tag": "ABX9TyMYoDCsU7yS8tRFVVry3XaM",
      "include_colab_link": true
    },
    "kernelspec": {
      "name": "python3",
      "display_name": "Python 3"
    },
    "language_info": {
      "name": "python"
    }
  },
  "cells": [
    {
      "cell_type": "markdown",
      "metadata": {
        "id": "view-in-github",
        "colab_type": "text"
      },
      "source": [
        "<a href=\"https://colab.research.google.com/github/fabiancipa17-tech/agroindustrial1/blob/main/agroindustrial1.ipynb\" target=\"_parent\"><img src=\"https://colab.research.google.com/assets/colab-badge.svg\" alt=\"Open In Colab\"/></a>"
      ]
    },
    {
      "cell_type": "code",
      "execution_count": null,
      "metadata": {
        "id": "7dRiKOxL4Akp"
      },
      "outputs": [],
      "source": []
    },
    {
      "cell_type": "code",
      "metadata": {
        "colab": {
          "base_uri": "https://localhost:8080/"
        },
        "id": "72c5e941",
        "outputId": "0737df27-6dd0-4958-fd3b-fed3e2053d03"
      },
      "source": [
        "# Definimos dos números para realizar operaciones\n",
        "a = 10\n",
        "b = 5\n",
        "\n",
        "# Suma\n",
        "suma = a + b\n",
        "print(f\"Suma: {a} + {b} = {suma}\")\n",
        "\n",
        "# Resta\n",
        "resta = a - b\n",
        "print(f\"Resta: {a} - {b} = {resta}\")\n",
        "\n",
        "# Multiplicación\n",
        "multiplicacion = a * b\n",
        "print(f\"Multiplicación: {a} * {b} = {multiplicacion}\")\n",
        "\n",
        "# División\n",
        "division = a / b\n",
        "print(f\"División: {a} / {b} = {division}\")\n",
        "\n",
        "# División entera\n",
        "division_entera = a // b\n",
        "print(f\"División entera: {a} // {b} = {division_entera}\")\n",
        "\n",
        "# Módulo (resto de la división)\n",
        "modulo = a % b\n",
        "print(f\"Módulo: {a} % {b} = {modulo}\")\n",
        "\n",
        "# Potencia\n",
        "potencia = a ** b\n",
        "print(f\"Potencia: {a} ** {b} = {potencia}\")"
      ],
      "execution_count": 1,
      "outputs": [
        {
          "output_type": "stream",
          "name": "stdout",
          "text": [
            "Suma: 10 + 5 = 15\n",
            "Resta: 10 - 5 = 5\n",
            "Multiplicación: 10 * 5 = 50\n",
            "División: 10 / 5 = 2.0\n",
            "División entera: 10 // 5 = 2\n",
            "Módulo: 10 % 5 = 0\n",
            "Potencia: 10 ** 5 = 100000\n"
          ]
        }
      ]
    },
    {
      "cell_type": "markdown",
      "metadata": {
        "id": "b25dd79d"
      },
      "source": [
        "Aquí tienes una explicación línea por línea del código:"
      ]
    },
    {
      "cell_type": "code",
      "metadata": {
        "id": "10444d2e"
      },
      "source": [
        "# Suma\n",
        "suma = a + b\n",
        "print(f\"Suma: {a} + {b} = {suma}\")"
      ],
      "execution_count": null,
      "outputs": []
    },
    {
      "cell_type": "code",
      "metadata": {
        "id": "2f90a270"
      },
      "source": [
        "# Resta\n",
        "resta = a - b\n",
        "print(f\"Resta: {a} - {b} = {resta}\")"
      ],
      "execution_count": null,
      "outputs": []
    },
    {
      "cell_type": "code",
      "metadata": {
        "id": "ef2a8379"
      },
      "source": [
        "# Multiplicación\n",
        "multiplicacion = a * b\n",
        "print(f\"Multiplicación: {a} * {b} = {multiplicacion}\")"
      ],
      "execution_count": null,
      "outputs": []
    },
    {
      "cell_type": "code",
      "metadata": {
        "id": "cb04f38a"
      },
      "source": [
        "# División\n",
        "division = a / b\n",
        "print(f\"División: {a} / {b} = {division}\")"
      ],
      "execution_count": null,
      "outputs": []
    },
    {
      "cell_type": "code",
      "metadata": {
        "id": "c59165d6"
      },
      "source": [
        "# División entera\n",
        "division_entera = a // b\n",
        "print(f\"División entera: {a} // {b} = {division_entera}\")"
      ],
      "execution_count": null,
      "outputs": []
    },
    {
      "cell_type": "code",
      "metadata": {
        "id": "dc59db11"
      },
      "source": [
        "# Módulo (resto de la división)\n",
        "modulo = a % b\n",
        "print(f\"Módulo: {a} % {b} = {modulo}\")"
      ],
      "execution_count": null,
      "outputs": []
    },
    {
      "cell_type": "code",
      "metadata": {
        "id": "c999b1d7"
      },
      "source": [
        "# Potencia\n",
        "potencia = a ** b\n",
        "print(f\"Potencia: {a} ** {b} = {potencia}\")"
      ],
      "execution_count": null,
      "outputs": []
    }
  ]
}